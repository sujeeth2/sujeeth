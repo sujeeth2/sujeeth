{
 "cells": [
  {
   "cell_type": "code",
   "execution_count": 1,
   "id": "4a7c4014-00b8-4a32-afce-59ce81fec9dc",
   "metadata": {},
   "outputs": [
    {
     "name": "stdout",
     "output_type": "stream",
     "text": [
      "[100, 40, 206]\n"
     ]
    }
   ],
   "source": [
    "L = [100,40,53,99,206,907]\n",
    "even = []\n",
    "for x in L:\n",
    "    if x%2 == 0:\n",
    "        even.append(x)\n",
    "print(even)        \n",
    "        "
   ]
  },
  {
   "cell_type": "code",
   "execution_count": null,
   "id": "26b2de11-a25c-4c03-ae75-e0d063e5c651",
   "metadata": {},
   "outputs": [],
   "source": []
  },
  {
   "cell_type": "code",
   "execution_count": 11,
   "id": "fd029738-f4f6-4824-b344-b78ab784753d",
   "metadata": {},
   "outputs": [
    {
     "name": "stdout",
     "output_type": "stream",
     "text": [
      "[53, 99, 907]\n"
     ]
    }
   ],
   "source": [
    "L = [100,40,53,99,206,907]\n",
    "odd = []\n",
    "for x in L:\n",
    "    if x%2 != 0:\n",
    "        odd.append(x)\n",
    "print(odd)        "
   ]
  },
  {
   "cell_type": "code",
   "execution_count": null,
   "id": "281adda6-3c46-49a8-ac83-e9da60720118",
   "metadata": {},
   "outputs": [],
   "source": []
  },
  {
   "cell_type": "code",
   "execution_count": 19,
   "id": "58af02d3-faa8-46f4-b047-24cca4ed304f",
   "metadata": {
    "scrolled": true
   },
   "outputs": [
    {
     "name": "stdout",
     "output_type": "stream",
     "text": [
      "[['apple', 10], ['banana', 5], ['cheery', 7], ['dragon', 10], ['grapes', 6], ['apple', 15]]\n"
     ]
    }
   ],
   "source": [
    "orders = [['apple', 10], ['banana', 5], ['cheery', 7], ['dragon', 10], ['grapes', 6],['apple', 15]]\n",
    "\n",
    "for each in orders:\n",
    "    if each[0] == \"cherry\":\n",
    "        each[1] = 10\n",
    "        \n",
    "print(orders)"
   ]
  },
  {
   "cell_type": "code",
   "execution_count": 23,
   "id": "d81bebf8-e930-482b-8cd2-ce424349ba51",
   "metadata": {},
   "outputs": [
    {
     "name": "stdout",
     "output_type": "stream",
     "text": [
      "[['apple', 10], ['banana', 5], ['cheery', 7], ['dragon', 10], ['grapes', 6], ['apple', 15], ['apple', 15]]\n",
      "[10, 15, 15]\n",
      "40\n"
     ]
    }
   ],
   "source": [
    "orders = [['apple', 10], ['banana', 5], ['cheery', 7], ['dragon', 10], ['grapes', 6],['apple', 15]]\n",
    "\n",
    "orders.append([\"apple\",15])\n",
    "print(orders)\n",
    "\n",
    "total = [ ]\n",
    "for each_item in orders:\n",
    "    if each_item[0] == \"apple\":\n",
    "        total.append(each_item[1])\n",
    "print(total)\n",
    "print(sum(total))"
   ]
  },
  {
   "cell_type": "code",
   "execution_count": 25,
   "id": "28eef6e7-a244-4b88-892a-cf6d51627f2e",
   "metadata": {},
   "outputs": [
    {
     "name": "stdout",
     "output_type": "stream",
     "text": [
      "(4, 10, 9, 'A', 9.81, False, (9-6j))\n",
      "<class 'tuple'>\n"
     ]
    }
   ],
   "source": [
    "tup1 = (4,10,9,\"A\",9.81, False, 9-6j)\n",
    "print (tup1)\n",
    "print (type(tup1))"
   ]
  },
  {
   "cell_type": "code",
   "execution_count": 33,
   "id": "093e1d58-35ed-4715-86aa-0aed8491aa50",
   "metadata": {},
   "outputs": [
    {
     "name": "stdout",
     "output_type": "stream",
     "text": [
      "(4, 10, 9, 'A', 9.81, False, (9-6j))\n",
      "<class 'tuple'>\n",
      "(9, 'A')\n"
     ]
    }
   ],
   "source": [
    "tup1 = (4,10,9,\"A\",9.81, False, 9-6j)\n",
    "print (tup1)\n",
    "print (type(tup1))\n",
    "#slicing\n",
    "print(tup1[2:4])"
   ]
  },
  {
   "cell_type": "code",
   "execution_count": null,
   "id": "f8b8d91d-aa8e-4edd-9541-8ff010490bbd",
   "metadata": {},
   "outputs": [],
   "source": [
    "tup2 = (10,20,1,12,,26,62,25)\n",
    "tup2.count("
   ]
  },
  {
   "cell_type": "code",
   "execution_count": 7,
   "id": "6afafd1e-5fa5-41dd-bc67-429181229590",
   "metadata": {},
   "outputs": [],
   "source": [
    "scores = {'Virat' : 90,'Rohit' : 100,'Rahul' : 70,'Hardik' : 65,'Gill' : 20,'Jadeja' : 30,'Aswin' : 15,}"
   ]
  },
  {
   "cell_type": "code",
   "execution_count": 9,
   "id": "eb87a495-35ca-4563-b245-a6c63f0bba25",
   "metadata": {},
   "outputs": [
    {
     "data": {
      "text/plain": [
       "{'Virat': 90,\n",
       " 'Rohit': 100,\n",
       " 'Rahul': 70,\n",
       " 'Hardik': 65,\n",
       " 'Gill': 20,\n",
       " 'Jadeja': 30,\n",
       " 'Aswin': 15}"
      ]
     },
     "execution_count": 9,
     "metadata": {},
     "output_type": "execute_result"
    }
   ],
   "source": [
    "scores.update({\"Jadeja\":50})\n",
    "scores\n",
    "\n",
    "{'Virat' : 90,\n",
    " 'Rohit' : 100,\n",
    " 'Rahul' : 70,\n",
    " 'Hardik' : 65,\n",
    " 'Gill' : 20,\n",
    " 'Jadeja' : 30,\n",
    " 'Aswin' : 15,}"
   ]
  },
  {
   "cell_type": "code",
   "execution_count": 13,
   "id": "efcaeecb-94f8-4411-bf54-82c8d9f1cdfb",
   "metadata": {},
   "outputs": [
    {
     "name": "stdout",
     "output_type": "stream",
     "text": [
      "[90, 100, 70, 65, 20, 50, 15]\n",
      "Total Scores:  410\n"
     ]
    }
   ],
   "source": [
    "scores_list = []\n",
    "for v in scores.values():\n",
    "    scores_list.append(v)\n",
    "print(scores_list)\n",
    "print(\"Total Scores: \", sum(scores_list))\n"
   ]
  },
  {
   "cell_type": "code",
   "execution_count": 9,
   "id": "80e24fd5-4b37-4611-8c2b-9a741413226f",
   "metadata": {},
   "outputs": [
    {
     "name": "stdout",
     "output_type": "stream",
     "text": [
      "{0, 1, 8, 9, 10, 78, 20}\n",
      "<class 'set'>\n"
     ]
    }
   ],
   "source": [
    "list1 = [1, 8, 9, 0,10,20,78,8,8,8]\n",
    "s2 = set(list1)\n",
    "print(s2)\n",
    "print(type(s2))"
   ]
  },
  {
   "cell_type": "code",
   "execution_count": 11,
   "id": "a4aec96c-31b5-45f6-88a0-aba4fc01ee77",
   "metadata": {},
   "outputs": [
    {
     "data": {
      "text/plain": [
       "{3, 4}"
      ]
     },
     "execution_count": 11,
     "metadata": {},
     "output_type": "execute_result"
    }
   ],
   "source": [
    "s1 = {1,2,3,4}\n",
    "s2 = {3,4,5,6}\n",
    "s1 & s2"
   ]
  },
  {
   "cell_type": "code",
   "execution_count": 13,
   "id": "d68c8ecb-8e1e-4471-baa6-5bad472e4734",
   "metadata": {},
   "outputs": [
    {
     "data": {
      "text/plain": [
       "{1, 2}"
      ]
     },
     "execution_count": 13,
     "metadata": {},
     "output_type": "execute_result"
    }
   ],
   "source": [
    "s1 = {1,2,3,4}\n",
    "s2 = {3,4,5,6}\n",
    "s1 - s2"
   ]
  },
  {
   "cell_type": "code",
   "execution_count": 16,
   "id": "6f01885c-b069-4009-9961-5b3f48cf8542",
   "metadata": {},
   "outputs": [
    {
     "data": {
      "text/plain": [
       "{1, 2, 5, 6}"
      ]
     },
     "execution_count": 16,
     "metadata": {},
     "output_type": "execute_result"
    }
   ],
   "source": [
    "s1 = {1,2,3,4}\n",
    "s2 = {3,4,5,6}\n",
    "s1.symmetric_difference(s2)\n"
   ]
  },
  {
   "cell_type": "code",
   "execution_count": 18,
   "id": "2626222f-60a0-4002-baa0-4397eddc7eb5",
   "metadata": {},
   "outputs": [
    {
     "data": {
      "text/plain": [
       "False"
      ]
     },
     "execution_count": 18,
     "metadata": {},
     "output_type": "execute_result"
    }
   ],
   "source": [
    "s1 = {1,2,3,4}\n",
    "s2 = {3,4,5,6}\n",
    "s2.issubset(s1)"
   ]
  },
  {
   "cell_type": "code",
   "execution_count": 20,
   "id": "5490176d-7bb7-4d90-a7a4-6b4852defc76",
   "metadata": {},
   "outputs": [
    {
     "data": {
      "text/plain": [
       "False"
      ]
     },
     "execution_count": 20,
     "metadata": {},
     "output_type": "execute_result"
    }
   ],
   "source": [
    "s1 = {1,2,3,4}\n",
    "s2 = {3,4,5,6}\n",
    "s2.issuperset(s1)"
   ]
  },
  {
   "cell_type": "code",
   "execution_count": 22,
   "id": "5b18071d-2751-46fe-9080-978cd249c246",
   "metadata": {},
   "outputs": [
    {
     "name": "stdout",
     "output_type": "stream",
     "text": [
      "Welcome to aiml class\n",
      "We started with python\n",
      "This is an awesome class\n"
     ]
    }
   ],
   "source": [
    "str1 = \"Welcome to aiml class\"\n",
    "print(str1)\n",
    "str2 = 'We started with python'\n",
    "print(str2)\n",
    "str3 = '''This is an awesome class'''\n",
    "print(str3)"
   ]
  },
  {
   "cell_type": "code",
   "execution_count": 24,
   "id": "8a6c8892-bde0-4612-bc8e-316c839d9f2a",
   "metadata": {},
   "outputs": [
    {
     "name": "stdout",
     "output_type": "stream",
     "text": [
      "<class 'str'>\n",
      "<class 'str'>\n",
      "<class 'str'>\n"
     ]
    }
   ],
   "source": [
    "print(type (str1))\n",
    "print(type (str2))\n",
    "print(type (str3))"
   ]
  },
  {
   "cell_type": "code",
   "execution_count": 26,
   "id": "836c8905-7b27-4e6e-b25d-ccf6c35304bd",
   "metadata": {},
   "outputs": [
    {
     "name": "stdout",
     "output_type": "stream",
     "text": [
      "Welcome to aiml class\n"
     ]
    },
    {
     "data": {
      "text/plain": [
       "'me to'"
      ]
     },
     "execution_count": 26,
     "metadata": {},
     "output_type": "execute_result"
    }
   ],
   "source": [
    "# slicing in strings\n",
    "print(str1)\n",
    "str1[5:10]"
   ]
  },
  {
   "cell_type": "code",
   "execution_count": 28,
   "id": "2ab823d8-8c5c-443c-ad4e-2355abf14988",
   "metadata": {},
   "outputs": [
    {
     "name": "stdout",
     "output_type": "stream",
     "text": [
      "Welcome to aiml class\n"
     ]
    },
    {
     "data": {
      "text/plain": [
       "['Welcome', 'to', 'aiml', 'class']"
      ]
     },
     "execution_count": 28,
     "metadata": {},
     "output_type": "execute_result"
    }
   ],
   "source": [
    "print(str1)\n",
    "str1.split()\n"
   ]
  },
  {
   "cell_type": "code",
   "execution_count": 30,
   "id": "cf2505e8-20bf-4914-b305-18ea9918bb68",
   "metadata": {},
   "outputs": [
    {
     "data": {
      "text/plain": [
       "'The product is awesome;Great Service'"
      ]
     },
     "execution_count": 30,
     "metadata": {},
     "output_type": "execute_result"
    }
   ],
   "source": [
    "# use of join() method\n",
    "reviews = [\"The product is awesome\", \"Great Service\"]\n",
    "joined_string = ';'.join(reviews)\n",
    "joined_string"
   ]
  },
  {
   "cell_type": "code",
   "execution_count": 32,
   "id": "b2a4dae2-8cfc-4ad5-a63c-14449a7c7d35",
   "metadata": {},
   "outputs": [
    {
     "data": {
      "text/plain": [
       "'     Hello, How are you?      '"
      ]
     },
     "execution_count": 32,
     "metadata": {},
     "output_type": "execute_result"
    }
   ],
   "source": [
    "# use of strip() method\n",
    "str5 = \"     Hello, How are you?      \"\n",
    "str5"
   ]
  },
  {
   "cell_type": "code",
   "execution_count": 34,
   "id": "4ed8f1d4-e33a-4245-9e56-ca2739d15e09",
   "metadata": {},
   "outputs": [
    {
     "data": {
      "text/plain": [
       "'Hello, How are you?'"
      ]
     },
     "execution_count": 34,
     "metadata": {},
     "output_type": "execute_result"
    }
   ],
   "source": [
    "str5.strip()"
   ]
  },
  {
   "cell_type": "code",
   "execution_count": 36,
   "id": "cf79087a-1fea-4244-8bae-682ef60dd02d",
   "metadata": {},
   "outputs": [
    {
     "data": {
      "text/plain": [
       "'hello, how are you?'"
      ]
     },
     "execution_count": 36,
     "metadata": {},
     "output_type": "execute_result"
    }
   ],
   "source": [
    "str5 = 'Hello, How are you?'\n",
    "str5.lower()"
   ]
  },
  {
   "cell_type": "code",
   "execution_count": 38,
   "id": "aee3ec44-5b9f-439b-8a3f-783c45558e0b",
   "metadata": {},
   "outputs": [
    {
     "data": {
      "text/plain": [
       "'HELLO, HOW ARE YOU?'"
      ]
     },
     "execution_count": 38,
     "metadata": {},
     "output_type": "execute_result"
    }
   ],
   "source": [
    "str5.upper()"
   ]
  },
  {
   "cell_type": "code",
   "execution_count": 2,
   "id": "33b51643-7a72-4a08-ba0e-486e492a3868",
   "metadata": {},
   "outputs": [
    {
     "name": "stdout",
     "output_type": "stream",
     "text": [
      "even\n"
     ]
    }
   ],
   "source": [
    "num = 6\n",
    "if num %2 == 0:\n",
    "    print(\"even\")\n",
    "else:\n",
    "    print(\"odd\")\n",
    "    "
   ]
  },
  {
   "cell_type": "code",
   "execution_count": 6,
   "id": "336c6a0e-2c4e-4756-8879-853dfd7b54e8",
   "metadata": {},
   "outputs": [
    {
     "name": "stdout",
     "output_type": "stream",
     "text": [
      "even\n"
     ]
    }
   ],
   "source": [
    " print(\"even\") if num %2 == 0 else print(\"odd\")"
   ]
  },
  {
   "cell_type": "code",
   "execution_count": 9,
   "id": "7ccae402-3fce-4afe-b2e8-e05c8aa8a3fe",
   "metadata": {},
   "outputs": [
    {
     "name": "stdout",
     "output_type": "stream",
     "text": [
      "Zero\n"
     ]
    }
   ],
   "source": [
    "num = 0\n",
    "result = \"Positive\" if num > 0 else (\"Negative\" if num < 0 else \"Zero\")\n",
    "print(result)"
   ]
  },
  {
   "cell_type": "code",
   "execution_count": 13,
   "id": "85475a0d-c328-441f-bdc3-8808a361411c",
   "metadata": {},
   "outputs": [
    {
     "data": {
      "text/plain": [
       "[2, 0, 18, 8, 10, 12, 6, 4, 4]"
      ]
     },
     "execution_count": 13,
     "metadata": {},
     "output_type": "execute_result"
    }
   ],
   "source": [
    "L =[1,0,9,4,5,6,3,2,2]\n",
    "[2*x for x in L]"
   ]
  },
  {
   "cell_type": "code",
   "execution_count": 17,
   "id": "eb45f3fa-cd8d-48ca-9e6c-b58e9990036b",
   "metadata": {},
   "outputs": [
    {
     "data": {
      "text/plain": [
       "[0, 4, 6, 2, 2]"
      ]
     },
     "execution_count": 17,
     "metadata": {},
     "output_type": "execute_result"
    }
   ],
   "source": [
    "# print even numbers\n",
    "L =[1,0,9,4,5,6,3,2,2]\n",
    "[x for x in L if x%2 == 0]"
   ]
  },
  {
   "cell_type": "code",
   "execution_count": 19,
   "id": "c246e4ad-dbc7-48e0-b006-c3d594dd81f3",
   "metadata": {},
   "outputs": [
    {
     "data": {
      "text/plain": [
       "[1, 9, 5, 3]"
      ]
     },
     "execution_count": 19,
     "metadata": {},
     "output_type": "execute_result"
    }
   ],
   "source": [
    "# print odd numbers\n",
    "L =[1,0,9,4,5,6,3,2,2]\n",
    "[x for x in L if x%2 != 0]"
   ]
  },
  {
   "cell_type": "code",
   "execution_count": 27,
   "id": "19cb4c17-4983-4218-b276-95ed757fe398",
   "metadata": {},
   "outputs": [
    {
     "data": {
      "text/plain": [
       "3.75"
      ]
     },
     "execution_count": 27,
     "metadata": {},
     "output_type": "execute_result"
    }
   ],
   "source": [
    "L =[1,0,9,4,5,6,3,2]\n",
    "sum([ x for x in L])/len(L)"
   ]
  },
  {
   "cell_type": "code",
   "execution_count": 31,
   "id": "75d980d3-cff6-4c10-89cc-a2aa3d5a3edc",
   "metadata": {},
   "outputs": [
    {
     "data": {
      "text/plain": [
       "{'Sujeeth': 84.75, 'Jhon': 45.8}"
      ]
     },
     "execution_count": 31,
     "metadata": {},
     "output_type": "execute_result"
    }
   ],
   "source": [
    "d1 = {'Sujeeth': [70,71,98,100], 'Jhon': [56,34,33,78,28]}\n",
    "{k:sum(v)/len(v) for k,v in d1.items()}"
   ]
  },
  {
   "cell_type": "code",
   "execution_count": 39,
   "id": "c43f75c1-0967-4510-8bfb-79c36eb966e1",
   "metadata": {},
   "outputs": [
    {
     "name": "stdout",
     "output_type": "stream",
     "text": [
      "Good Morning sujeeth!\n"
     ]
    }
   ],
   "source": [
    "def greet(name):\n",
    "    print(f\"Good Morning {name}!\") \n",
    "greet(\"sujeeth\")\n"
   ]
  },
  {
   "cell_type": "code",
   "execution_count": 1,
   "id": "847eb877-ee09-47e8-add2-76535f1b9d86",
   "metadata": {},
   "outputs": [
    {
     "name": "stdout",
     "output_type": "stream",
     "text": [
      "Good Morning sujeeth!\n"
     ]
    }
   ],
   "source": [
    "#lambda function\n",
    "def greet(name): print(f\"Good Morning {name}!\") \n",
    "greet(\"sujeeth\")\n"
   ]
  },
  {
   "cell_type": "code",
   "execution_count": 21,
   "id": "ea1d8128-ff05-45e3-bb12-2697abd06317",
   "metadata": {},
   "outputs": [
    {
     "data": {
      "text/plain": [
       "2000000000000000000000000000000000000000000000000000000000000000000000000000000000000000000000000000000000000000000000000000000000000000000000000000000000"
      ]
     },
     "execution_count": 21,
     "metadata": {},
     "output_type": "execute_result"
    }
   ],
   "source": [
    "# product of 3 numbers\n",
    "product = lambda a,b,c : a*b*c\n",
    "product(20000000000000000000000000000000000000000000000000000000000000000000000000,100000000000000000000000000000000000000000000000000000,1000000000000000000000000000)"
   ]
  },
  {
   "cell_type": "code",
   "execution_count": 25,
   "id": "03af8d70-0ea1-4f30-9b3f-32f940167a00",
   "metadata": {},
   "outputs": [
    {
     "data": {
      "text/plain": [
       "[100, 20, 40, 50, 66]"
      ]
     },
     "execution_count": 25,
     "metadata": {},
     "output_type": "execute_result"
    }
   ],
   "source": [
    "# lambda function with list comprehension\n",
    "even = lambda L : [x for x in L if x%2 ==0]\n",
    "my_list = [100,20,40,50,66]\n",
    "even(my_list)"
   ]
  },
  {
   "cell_type": "code",
   "execution_count": null,
   "id": "16cd71b1-1a7b-4f20-9d57-2a96ccc0aed1",
   "metadata": {},
   "outputs": [],
   "source": []
  },
  {
   "cell_type": "code",
   "execution_count": null,
   "id": "9c78632b-8a34-4e2d-a20c-17ebc5fd340b",
   "metadata": {},
   "outputs": [],
   "source": []
  },
  {
   "cell_type": "code",
   "execution_count": null,
   "id": "6914565a-e1c0-4648-a777-7ab864ebcaf9",
   "metadata": {},
   "outputs": [],
   "source": []
  },
  {
   "cell_type": "code",
   "execution_count": null,
   "id": "a4812dd4-3c64-42b9-af86-3a9b2fca1064",
   "metadata": {},
   "outputs": [],
   "source": []
  },
  {
   "cell_type": "code",
   "execution_count": null,
   "id": "6051d064-d13b-4803-9d9f-0c2ed669d373",
   "metadata": {},
   "outputs": [],
   "source": []
  },
  {
   "cell_type": "code",
   "execution_count": null,
   "id": "050e70bb-cae4-4305-a03c-e24df9bd0c37",
   "metadata": {},
   "outputs": [],
   "source": []
  },
  {
   "cell_type": "code",
   "execution_count": null,
   "id": "6611a9ae-c3e1-46d3-8534-213db41c92d9",
   "metadata": {},
   "outputs": [],
   "source": []
  },
  {
   "cell_type": "code",
   "execution_count": null,
   "id": "dc0cb764-a7a4-4656-af6f-439f148960cd",
   "metadata": {},
   "outputs": [],
   "source": []
  },
  {
   "cell_type": "code",
   "execution_count": null,
   "id": "f079b880-5303-4dfb-9d43-7eadfb4e398e",
   "metadata": {},
   "outputs": [],
   "source": []
  },
  {
   "cell_type": "code",
   "execution_count": null,
   "id": "2f97f3b3-8ff3-4cfb-92c1-8685e60c2b27",
   "metadata": {},
   "outputs": [],
   "source": []
  },
  {
   "cell_type": "code",
   "execution_count": null,
   "id": "fe640f3c-dc24-444d-b990-394b9539e626",
   "metadata": {},
   "outputs": [],
   "source": []
  },
  {
   "cell_type": "code",
   "execution_count": null,
   "id": "ad1b604a-3c59-45a5-a4a1-250fde8fde8a",
   "metadata": {},
   "outputs": [],
   "source": []
  }
 ],
 "metadata": {
  "kernelspec": {
   "display_name": "Python 3 (ipykernel)",
   "language": "python",
   "name": "python3"
  },
  "language_info": {
   "codemirror_mode": {
    "name": "ipython",
    "version": 3
   },
   "file_extension": ".py",
   "mimetype": "text/x-python",
   "name": "python",
   "nbconvert_exporter": "python",
   "pygments_lexer": "ipython3",
   "version": "3.12.7"
  }
 },
 "nbformat": 4,
 "nbformat_minor": 5
}
